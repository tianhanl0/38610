{
  "cells": [
    {
      "cell_type": "markdown",
      "metadata": {
        "id": "view-in-github",
        "colab_type": "text"
      },
      "source": [
        "<a href=\"https://colab.research.google.com/github/tianhanl0/38610/blob/main/Lecture_5_SciPy.ipynb\" target=\"_parent\"><img src=\"https://colab.research.google.com/assets/colab-badge.svg\" alt=\"Open In Colab\"/></a>"
      ]
    },
    {
      "cell_type": "markdown",
      "metadata": {
        "id": "6kUyXPWvKilE"
      },
      "source": [
        "# SciPy \n",
        "Refer to the SCiPy documentation at:\n",
        "\n",
        "* SciPy User Guide: https://docs.scipy.org/doc/scipy/reference/tutorial/index.html\n",
        "* SciPy API Guide: https://docs.scipy.org/doc/scipy/reference/index.html"
      ]
    },
    {
      "cell_type": "markdown",
      "metadata": {
        "id": "coOeB3dcKilI"
      },
      "source": [
        "## Special Functions (scipy.special)\n",
        "\n",
        "There are a number of built-in functions that are used in mathematical physics\n",
        "\n",
        "A full list of the functions available in scipy.special can be found at [here](https://docs.scipy.org/doc/scipy/reference/special.html).\n",
        "\n",
        "For example... a gamma function..."
      ]
    },
    {
      "cell_type": "code",
      "execution_count": 1,
      "metadata": {
        "id": "wflhO7FvKilJ"
      },
      "outputs": [],
      "source": [
        "import scipy.special as special\n",
        "import numpy as np\n",
        "import matplotlib.pyplot as plt\n",
        "\n",
        "#magic command that add\n",
        "%matplotlib inline"
      ]
    },
    {
      "cell_type": "code",
      "execution_count": 2,
      "metadata": {
        "id": "f6F6i0RnKilK",
        "outputId": "0adcfcfe-f585-42d7-e7b8-9f8b786c3762",
        "colab": {
          "base_uri": "https://localhost:8080/"
        }
      },
      "outputs": [
        {
          "output_type": "execute_result",
          "data": {
            "text/plain": [
              "array([        inf,  1.77245385,  1.        , 24.        ])"
            ]
          },
          "metadata": {},
          "execution_count": 2
        }
      ],
      "source": [
        "x = special.gamma([0, 0.5, 1.0, 5.0])\n",
        "x"
      ]
    },
    {
      "cell_type": "code",
      "execution_count": 3,
      "metadata": {
        "colab": {
          "base_uri": "https://localhost:8080/"
        },
        "id": "or4JhXKFKilM",
        "outputId": "af5d056a-c469-4e1b-f037-bebe082ba7be"
      },
      "outputs": [
        {
          "output_type": "execute_result",
          "data": {
            "text/plain": [
              "(0.7747621045510842+0.7076312043795936j)"
            ]
          },
          "metadata": {},
          "execution_count": 3
        }
      ],
      "source": [
        "z = 2.5 + 1j\n",
        "special.gamma(z)"
      ]
    },
    {
      "cell_type": "markdown",
      "metadata": {
        "id": "XjuNEwN6KilN"
      },
      "source": [
        "# Statistics (scipy.stats)\n",
        "\n",
        "Scipy comes with a wide array of statistics functionality and methods.\n",
        "\n",
        "For a full list of the methods available, see the [documentation](https://docs.scipy.org/doc/scipy/reference/reference/stats.html#module-scipy.stats).\n",
        "\n",
        "Here are few examples\n",
        "\n",
        "You can work with distributions..."
      ]
    },
    {
      "cell_type": "code",
      "execution_count": 4,
      "metadata": {
        "colab": {
          "base_uri": "https://localhost:8080/"
        },
        "id": "4TlmVrr0KilO",
        "outputId": "7778cc2a-e61d-4e8b-821a-76f00f0accfb"
      },
      "outputs": [
        {
          "output_type": "stream",
          "name": "stdout",
          "text": [
            "Variable   Type       Data/Info\n",
            "-------------------------------\n",
            "a          ndarray    3: 3 elems, type `float64`, 24 bytes\n",
            "c          ndarray    3: 3 elems, type `float64`, 24 bytes\n",
            "np         module     <module 'numpy' from '/us<...>kages/numpy/__init__.py'>\n",
            "plt        module     <module 'matplotlib.pyplo<...>es/matplotlib/pyplot.py'>\n",
            "r          ndarray    10: 10 elems, type `float64`, 80 bytes\n",
            "special    module     <module 'scipy.special' f<...>ipy/special/__init__.py'>\n",
            "stats      module     <module 'scipy.stats' fro<...>scipy/stats/__init__.py'>\n",
            "x          ndarray    4: 4 elems, type `float64`, 32 bytes\n",
            "z          complex    (2.5+1j)\n"
          ]
        }
      ],
      "source": [
        "import scipy.stats as stats\n",
        "\n",
        "# Normal Continuous distribution functions\n",
        "a = np.array([-1.,0.,1.])\n",
        "c = stats.norm.cdf(a)\n",
        "\n",
        "# get Random numbers from a normal distribution\n",
        "r = stats.norm.rvs(5, size=10)\n",
        "\n",
        "%whos"
      ]
    },
    {
      "cell_type": "markdown",
      "metadata": {
        "id": "hALtCVqNKilP"
      },
      "source": [
        "Basic tests - t-tests and KS-tests"
      ]
    },
    {
      "cell_type": "code",
      "execution_count": 5,
      "metadata": {
        "colab": {
          "base_uri": "https://localhost:8080/"
        },
        "id": "N0Stc06PKilP",
        "outputId": "a2fb16e4-e90e-4797-f3d4-281ea14f2f1b"
      },
      "outputs": [
        {
          "output_type": "stream",
          "name": "stdout",
          "text": [
            "distribution:  mean = 0.0000, variance = 1.2500, skew = 0.0000, kurtosis = 1.0000\n",
            "sample:        mean = 0.0136, variance = 1.2310, skew = 0.2198, kurtosis = 1.0361\n",
            "t-statistic =  0.388 pvalue = 0.6982\n",
            "KS-statistic D =  0.017 pvalue = 0.9268\n"
          ]
        }
      ],
      "source": [
        "### random list\n",
        "x = stats.t.rvs(10,size=1000) # Generate 1000 variables from the Student t distribution\n",
        "\n",
        "### Distribution charateristics\n",
        "m, v, s, k = stats.t.stats(10, moments='mvsk')\n",
        "\n",
        "### Descriptive statistics\n",
        "n, (smin, smax), sm, sv, ss, sk = stats.describe(x)\n",
        "\n",
        "sstr = '%-14s mean = %6.4f, variance = %6.4f, skew = %6.4f, kurtosis = %6.4f'\n",
        "print(sstr % ('distribution:', m, v, s ,k))\n",
        "print(sstr % ('sample:', sm, sv, ss, sk))\n",
        "\n",
        "t_test = stats.ttest_1samp(x,m)\n",
        "print('t-statistic = %6.3f pvalue = %6.4f' % t_test)\n",
        "\n",
        "k_test = stats.kstest(x, 't', (10,))\n",
        "print(\"KS-statistic D = %6.3f pvalue = %6.4f\" % (k_test))"
      ]
    },
    {
      "cell_type": "markdown",
      "metadata": {
        "id": "IujhJjKSKilQ"
      },
      "source": [
        "We can do Quasi-Monte Carlo (QMC) methods. Monte Carlo (MC) methods are a broad class of computational algorithms that repeatedly random sample distibutions to get results. \n",
        "\n",
        "They are particularly useful when you don't have an analytic solution to a problem. QMC is designed to produce a set of random samples that are not clumped but yet are still fairly uniform within the space. \n",
        "\n",
        "Here is an example where one can sets of random points determined by QMC using Sobol and Halton sequences."
      ]
    },
    {
      "cell_type": "code",
      "execution_count": 6,
      "metadata": {
        "id": "emgcEzAeKilR",
        "outputId": "8fd32478-4a0f-45d1-de01-2ac4c8371938",
        "colab": {
          "base_uri": "https://localhost:8080/",
          "height": 366
        }
      },
      "outputs": [
        {
          "output_type": "stream",
          "name": "stderr",
          "text": [
            "/usr/local/lib/python3.7/dist-packages/scipy/stats/_qmc.py:1078: UserWarning: The balance properties of Sobol' points require n to be a power of 2.\n",
            "  warnings.warn(\"The balance properties of Sobol' points require\"\n"
          ]
        },
        {
          "output_type": "display_data",
          "data": {
            "text/plain": [
              "<Figure size 576x288 with 2 Axes>"
            ],
            "image/png": "[encoded data removed]"
          },
          "metadata": {
            "needs_background": "light"
          }
        }
      ],
      "source": [
        "rng = np.random.default_rng()\n",
        "\n",
        "n_sample = 100\n",
        "dim = 2 \n",
        "\n",
        "sample = {}\n",
        "\n",
        "# Sobol'\n",
        "engine = stats.qmc.Sobol(d=dim, seed=rng)\n",
        "sample[\"Sobol'\"] = engine.random(n_sample)\n",
        "\n",
        "# Halton\n",
        "engine = stats.qmc.Halton(d=dim, seed=rng)\n",
        "sample[\"Halton\"] = engine.random(n_sample)\n",
        "\n",
        "fig, axs = plt.subplots(1, 2, figsize=(8, 4))\n",
        "\n",
        "for i, kind in enumerate(sample):\n",
        "    axs[i].scatter(sample[kind][:, 0], sample[kind][:, 1])\n",
        "\n",
        "    axs[i].set_aspect('equal')\n",
        "    axs[i].set_xlabel(r'$x_1$')\n",
        "    axs[i].set_ylabel(r'$x_2$')\n",
        "    axs[i].set_title(f'{kind}—$C^2 = ${stats.qmc.discrepancy(sample[kind]):.2}')\n",
        "\n",
        "plt.tight_layout()\n",
        "plt.show()\n"
      ]
    },
    {
      "cell_type": "markdown",
      "metadata": {
        "id": "lhsEwkySKilS"
      },
      "source": [
        "### Integration (scipy.integrate)\n",
        "\n",
        "This subpackage has a number of different integration techniques\n",
        "\n",
        "A full list of the available functions can be at: https://docs.scipy.org/doc/scipy/reference/reference/integrate.html#module-scipy.integrate\n",
        "\n",
        "For example, we can take the integral of a bessel function from the interval [0,4.5]\n",
        "\n",
        "$$\n",
        " I = \\int_0^{4.5} J_{2.5}(x)\\,dx\n",
        "$$"
      ]
    },
    {
      "cell_type": "code",
      "execution_count": 7,
      "metadata": {
        "id": "IDJ1KO3sKilT",
        "outputId": "d0dea7b5-1432-44e0-bfc8-7f30b0746df5",
        "colab": {
          "base_uri": "https://localhost:8080/"
        }
      },
      "outputs": [
        {
          "output_type": "execute_result",
          "data": {
            "text/plain": [
              "(1.1178179380783253, 7.866317182537226e-09)"
            ]
          },
          "metadata": {},
          "execution_count": 7
        }
      ],
      "source": [
        "import scipy.integrate as integrate\n",
        "\n",
        "result = integrate.quad(lambda x: special.jv(2.5,x),0,4.5)\n",
        "result"
      ]
    },
    {
      "cell_type": "markdown",
      "metadata": {
        "id": "m3VI9A4yKilT"
      },
      "source": [
        "The first argument is always a calleable function, so if we wanted to take the integral of an arbitrary function:\n",
        "\n",
        "$$\n",
        " I(a,b) = \\int_0^1 ax^2 + b\\,dx\n",
        "$$"
      ]
    },
    {
      "cell_type": "code",
      "execution_count": 8,
      "metadata": {
        "id": "ql1V-ulsKilT",
        "outputId": "ab25bd06-8667-4835-96b7-9114d08110f3",
        "colab": {
          "base_uri": "https://localhost:8080/"
        }
      },
      "outputs": [
        {
          "output_type": "execute_result",
          "data": {
            "text/plain": [
              "(1.6666666666666667, 1.8503717077085944e-14)"
            ]
          },
          "metadata": {},
          "execution_count": 8
        }
      ],
      "source": [
        "def integrand(x, a, b):\n",
        "    return a*(x**2) + b\n",
        "\n",
        "a = 2\n",
        "b = 1\n",
        "integrate.quad(integrand,0,1,args=(a,b))"
      ]
    },
    {
      "cell_type": "markdown",
      "metadata": {
        "id": "giLuJtsaKilU"
      },
      "source": [
        "You can even include infinity in your integration:\n",
        "\n",
        "$$\n",
        " I(x) = \\int_1^{\\infty} \\frac{e^{-xt}}{t^n}\\,dt\n",
        "$$"
      ]
    },
    {
      "cell_type": "code",
      "execution_count": 9,
      "metadata": {
        "id": "SGX0Y_PiKilU",
        "outputId": "7b5ec52f-0dfc-490c-a1d2-ac4adba5ad08",
        "colab": {
          "base_uri": "https://localhost:8080/"
        }
      },
      "outputs": [
        {
          "output_type": "execute_result",
          "data": {
            "text/plain": [
              "0.10969196719780967"
            ]
          },
          "metadata": {},
          "execution_count": 9
        }
      ],
      "source": [
        "def integrand(t, n, x):\n",
        "    return np.exp(-x*t) / t**n\n",
        "\n",
        "integrate.quad(integrand,1,np.inf,args=(3.0,1.0))[0]"
      ]
    },
    {
      "cell_type": "markdown",
      "metadata": {
        "id": "SYQldunoKilU"
      },
      "source": [
        "One can do multiple integrations at once with `dblquad`, `tplquad` or `nquad`:\n",
        "\n",
        "$$\n",
        " I = \\int_0^{\\infty} \\int_1^{\\infty} \\frac{e^{-xt}}{t^{5.0}}\\,dx = \\frac{1}{n}\n",
        "$$"
      ]
    },
    {
      "cell_type": "code",
      "execution_count": 10,
      "metadata": {
        "id": "2McKDxlgKilV",
        "outputId": "acb75cc4-a609-4d97-f163-c719cbea7bc6",
        "colab": {
          "base_uri": "https://localhost:8080/"
        }
      },
      "outputs": [
        {
          "output_type": "execute_result",
          "data": {
            "text/plain": [
              "(0.2000000000189363, 1.3682975855986131e-08)"
            ]
          },
          "metadata": {},
          "execution_count": 10
        }
      ],
      "source": [
        "def fun_1(t,  x):\n",
        "    return np.exp(-x*t)/t**5.0\n",
        "\n",
        "integrate.dblquad(fun_1, 0, np.inf, 1, np.inf)"
      ]
    },
    {
      "cell_type": "code",
      "execution_count": 11,
      "metadata": {
        "id": "waKat6OkKilV",
        "outputId": "be9c08ca-7ed0-449f-e8c2-3989606f5e3d",
        "colab": {
          "base_uri": "https://localhost:8080/"
        }
      },
      "outputs": [
        {
          "output_type": "execute_result",
          "data": {
            "text/plain": [
              "(0.2000000000189363, 1.3682975855986131e-08)"
            ]
          },
          "metadata": {},
          "execution_count": 11
        }
      ],
      "source": [
        "integrate.nquad(fun_1,[[1,np.inf],[0,np.inf]])"
      ]
    },
    {
      "cell_type": "markdown",
      "metadata": {
        "id": "QdMTLkWRKilW"
      },
      "source": [
        "Sample-based integration can be done through Simpson's rule\n",
        "\n",
        "For example, let's integrate this function:\n",
        "\n",
        "$$\n",
        " \\int_1^4 x2\\,dx = 21.0\n",
        "$$"
      ]
    },
    {
      "cell_type": "code",
      "execution_count": 12,
      "metadata": {
        "id": "2kveMRBbKilW",
        "outputId": "40d6f554-fd02-4fa7-a1e4-5568c0ea87cf",
        "colab": {
          "base_uri": "https://localhost:8080/"
        }
      },
      "outputs": [
        {
          "output_type": "execute_result",
          "data": {
            "text/plain": [
              "21.0"
            ]
          },
          "metadata": {},
          "execution_count": 12
        }
      ],
      "source": [
        "def f1(x):\n",
        "    return x**2\n",
        "\n",
        "x = np.array([1,3,4])\n",
        "y = f1(x)\n",
        "\n",
        "integrate.simpson(y,x)"
      ]
    },
    {
      "cell_type": "markdown",
      "metadata": {
        "id": "_-ybMN-MKilW"
      },
      "source": [
        "One can also solve ordinary differential equations with the `solve_ivp` function.\n",
        "\n",
        "Let's evluate the differential equation:\n",
        "\n",
        "$$\n",
        "\\frac{dy}{dt} = f(y,t)\n",
        "$$\n",
        "$$\n",
        "f(y,t) = -(1/2) y(t)\n",
        "$$\n",
        "$$\n",
        "y(0) = 2.0\n",
        "$$"
      ]
    },
    {
      "cell_type": "code",
      "execution_count": 13,
      "metadata": {
        "id": "t-GQH8bTKilX",
        "outputId": "3950a11f-8c8d-4f84-bb51-d43134e3e2b3",
        "colab": {
          "base_uri": "https://localhost:8080/"
        }
      },
      "outputs": [
        {
          "output_type": "execute_result",
          "data": {
            "text/plain": [
              "(array([ 0.        ,  0.11488132,  1.26369452,  3.06074656,  4.81637262,\n",
              "         6.57504937,  8.33467262, 10.        ]),\n",
              " array([[2.        , 1.88835583, 1.0632438 , 0.43316531, 0.18014905,\n",
              "         0.07480841, 0.03105019, 0.01350782]]))"
            ]
          },
          "metadata": {},
          "execution_count": 13
        }
      ],
      "source": [
        "def y(t, y):\n",
        "    return -(1.0/2.0)*y\n",
        "\n",
        "s = integrate.solve_ivp(y,[0, 10], [2])\n",
        "s.t, s.y"
      ]
    },
    {
      "cell_type": "markdown",
      "metadata": {
        "id": "FwaUipRQKilX"
      },
      "source": [
        "### Optimization (scipy.optimize)\n",
        "\n",
        "One can do a bevy of different optimizations with Scipy.\n",
        "\n",
        "See https://docs.scipy.org/doc/scipy/reference/reference/optimize.html#module-scipy.optimize for all of the available functions and methods."
      ]
    },
    {
      "cell_type": "markdown",
      "metadata": {
        "id": "z-gc72KTKilX"
      },
      "source": [
        "One example would be to do an unconstrained minimization of multivariate scalar function with `minimize`.\n",
        "\n",
        "Let's minimize a Rosenrock function of N variables\n",
        "\n",
        "$$\n",
        "f(x) = \\sum_{i=1}^{N-1} 100(x_{i+1} - x_i^2)^2 + (1 - x_i)^2\n",
        "$$"
      ]
    },
    {
      "cell_type": "code",
      "execution_count": 14,
      "metadata": {
        "id": "iOHQj0csKilY"
      },
      "outputs": [],
      "source": [
        "import scipy.optimize as optimize\n",
        "\n",
        "def f(x):\n",
        "    return sum(100.0*(x[1:]-x[:-1]**2.0)**2.0 + (1.0-x[:-1])**2)\n",
        "   "
      ]
    },
    {
      "cell_type": "markdown",
      "metadata": {
        "id": "KrlwrnZvKilY"
      },
      "source": [
        "Let's use the Nelder-Mead Simplex method"
      ]
    },
    {
      "cell_type": "code",
      "execution_count": 15,
      "metadata": {
        "id": "49dsO5HoKilY",
        "outputId": "6935a69a-0ea5-4db5-c72c-9d992668604a",
        "colab": {
          "base_uri": "https://localhost:8080/"
        }
      },
      "outputs": [
        {
          "output_type": "stream",
          "name": "stdout",
          "text": [
            "Optimization terminated successfully.\n",
            "         Current function value: 0.000000\n",
            "         Iterations: 497\n",
            "         Function evaluations: 813\n",
            "[1. 1. 1. 1. 1.]\n"
          ]
        }
      ],
      "source": [
        "x0 = np.array([1.3, 0.4, 0.8, 2.9, 1.2])\n",
        "result = optimize.minimize(f,x0,method=\"nelder-mead\", options={'xatol': 1e-8, 'disp':True})\n",
        "\n",
        "print(result.x)"
      ]
    },
    {
      "cell_type": "markdown",
      "metadata": {
        "id": "5LQIWdanKilY"
      },
      "source": [
        "### Interpolation\n",
        "\n",
        "SciPy comes with 1-D and multi-dimensional interpolation techniques\n",
        "\n",
        "For all of the available methods, see: https://docs.scipy.org/doc/scipy/reference/reference/interpolate.html#module-scipy.interpolate"
      ]
    },
    {
      "cell_type": "markdown",
      "metadata": {
        "id": "u0xiyb-EKilZ"
      },
      "source": [
        "A simple 1-D interpolation can be achieved through the `interp1d` method"
      ]
    },
    {
      "cell_type": "code",
      "execution_count": 16,
      "metadata": {
        "id": "x6RDGSvCKilZ",
        "outputId": "f65dc535-e288-4816-d9e8-29e81cc45889",
        "colab": {
          "base_uri": "https://localhost:8080/",
          "height": 265
        }
      },
      "outputs": [
        {
          "output_type": "display_data",
          "data": {
            "text/plain": [
              "<Figure size 432x288 with 1 Axes>"
            ],
            "image/png": "[encoded data removed]"
          },
          "metadata": {
            "needs_background": "light"
          }
        }
      ],
      "source": [
        "import scipy.interpolate as interpolate\n",
        "\n",
        "x = np.linspace(0, 10, num=11, endpoint=True)\n",
        "y = np.cos(-x**2/9.0)\n",
        "\n",
        "f  = interpolate.interp1d(x, y, kind='linear')\n",
        "f2 = interpolate.interp1d(x, y, kind='cubic')\n",
        "f3 = interpolate.interp1d(x, y, kind='quadratic')\n",
        "\n",
        "x_new = np.linspace(0, 10, num=41, endpoint=True)\n",
        "plt.plot(x, y, 'o', x_new, f(x_new), '-', x_new, f2(x_new), '--', x_new, f3(x_new), '.')\n",
        "plt.legend(['data', 'linear', 'cubic', 'quadratic'], loc='best')\n",
        "plt.show()"
      ]
    },
    {
      "cell_type": "markdown",
      "metadata": {
        "id": "qOinQgfIKilZ"
      },
      "source": [
        "### Fast Fourier Transforms\n",
        "\n",
        "SciPy comes with 1-D, 2-D, and N-D fast Fourier Transforms through `scipy.fft`.\n",
        "\n",
        "See https://docs.scipy.org/doc/scipy/reference/reference/fft.html#module-scipy.fft for full list of methods.\n",
        "\n",
        "A basic 1-D FFT looks like the following:"
      ]
    },
    {
      "cell_type": "code",
      "execution_count": 17,
      "metadata": {
        "id": "Ij6XJpdIKilZ",
        "outputId": "f939e69a-b29f-4c85-fe3f-522c95e6bf45",
        "colab": {
          "base_uri": "https://localhost:8080/"
        }
      },
      "outputs": [
        {
          "output_type": "execute_result",
          "data": {
            "text/plain": [
              "(array([ 4.5       -0.j        ,  2.08155948-1.65109876j,\n",
              "        -1.83155948+1.60822041j, -1.83155948-1.60822041j,\n",
              "         2.08155948+1.65109876j]),\n",
              " array([ 1. +0.j,  2. +0.j,  1. +0.j, -1. +0.j,  1.5+0.j]))"
            ]
          },
          "metadata": {},
          "execution_count": 17
        }
      ],
      "source": [
        "from scipy.fft import fft, ifft\n",
        "\n",
        "x = np.array([1.0, 2.0, 1.0, -1.0, 1.5])\n",
        "y = fft(x)\n",
        "yinv = ifft(y)\n",
        "\n",
        "y, yinv"
      ]
    },
    {
      "cell_type": "markdown",
      "metadata": {
        "id": "3wVp2K43Kila"
      },
      "source": [
        "### Linear Algegra (scipy.linalg)\n",
        "\n",
        "SciPy is built with LAPACK and BLAS libraries that provide very fast highly optimized linear algebra functionality.\n",
        "\n",
        "For a full list of the functionality of `scipy.linalg`, which is quite extensive, see https://docs.scipy.org/doc/scipy/reference/reference/linalg.html#module-scipy.linalg.\n",
        "\n",
        "We will show a few examples here..."
      ]
    },
    {
      "cell_type": "markdown",
      "metadata": {
        "id": "BKEtuTCdKila"
      },
      "source": [
        "Solving linear systems can be accomplished through the use of linalg.solve. Lets look at the set of equations:\n",
        "\n",
        "$$\n",
        "x + 3y + 5z = 10\n",
        "$$\n",
        "$$\n",
        "2x + 5y + z = 8\n",
        "$$\n",
        "$$\n",
        "2x + 3y + 8z = 3\n",
        "$$"
      ]
    },
    {
      "cell_type": "code",
      "execution_count": 18,
      "metadata": {
        "id": "hDFYOB75Kila",
        "outputId": "065a8e4e-f380-474c-85ac-b3e1a489755d",
        "colab": {
          "base_uri": "https://localhost:8080/"
        }
      },
      "outputs": [
        {
          "output_type": "execute_result",
          "data": {
            "text/plain": [
              "array([-9.28,  5.16,  0.76])"
            ]
          },
          "metadata": {},
          "execution_count": 18
        }
      ],
      "source": [
        "import scipy.linalg as linalg\n",
        "\n",
        "A = np.array([[1, 3, 5],[2, 5, 1],[2, 3, 8]])\n",
        "B = np.array([10, 8, 3])\n",
        "\n",
        "x = linalg.solve(A,B)\n",
        "x"
      ]
    },
    {
      "cell_type": "markdown",
      "metadata": {
        "id": "yU_qJqt1Kila"
      },
      "source": [
        "Eigenvalue problems are very common in computatonal science. `scipy.linalg` provides a number of functions that can solve the general eigenvalue problem, as well as a number that are specific to different types of matrices.\n",
        "\n",
        "For example, the `scipy.linalg.eig` solves the general problem"
      ]
    },
    {
      "cell_type": "code",
      "execution_count": 19,
      "metadata": {
        "id": "yeZvHsGwKilb",
        "outputId": "9acf93ea-9cba-46bc-e12d-9ac0edecec09",
        "colab": {
          "base_uri": "https://localhost:8080/"
        }
      },
      "outputs": [
        {
          "output_type": "stream",
          "name": "stdout",
          "text": [
            "eig_values = [ 9.62347538e+00+0.j -6.23475383e-01+0.j  5.02863969e-16+0.j]\n",
            "eig_vectors = \t[-0.38508979 -0.82767094  0.40824829]\n",
            "\t\t[-0.55951021 -0.14241368 -0.81649658]\n",
            "\t\t[-0.73393063  0.54284358  0.40824829]\n"
          ]
        }
      ],
      "source": [
        "a = np.array([[1.0, 2.0, 3.0], [2.0, 3.0, 4.0], [3.0, 4.0, 5.0]])\n",
        "eig_values, eig_vectors = linalg.eig(a)\n",
        "print(\"eig_values = {}\".format(eig_values))\n",
        "print(\"eig_vectors = \\t{}\\n\\t\\t{}\\n\\t\\t{}\".format(eig_vectors[0],eig_vectors[1],eig_vectors[2]))"
      ]
    },
    {
      "cell_type": "markdown",
      "metadata": {
        "id": "f7ne31JYKilb"
      },
      "source": [
        "### File IO functions \n",
        "\n",
        "Scipy comes with a robust set of tools to read a number of different file formats thorugh the scipy.io library.\n",
        "\n",
        "To see all of the supported formats including Matlab matrix files, wav sournd files, etc., see: https://docs.scipy.org/doc/scipy/reference/reference/io.html#module-scipy.io\n",
        "\n",
        "To read a netCDF file (a file with the extension `.nc`:"
      ]
    },
    {
      "cell_type": "code",
      "execution_count": 20,
      "metadata": {
        "id": "LzmzZzeAKilb",
        "outputId": "2e76083b-c893-4d49-ada3-96f0c6044f05",
        "colab": {
          "base_uri": "https://localhost:8080/",
          "height": 369
        }
      },
      "outputs": [
        {
          "output_type": "error",
          "ename": "FileNotFoundError",
          "evalue": "ignored",
          "traceback": [
            "\u001b[0;31m---------------------------------------------------------------------------\u001b[0m",
            "\u001b[0;31mFileNotFoundError\u001b[0m                         Traceback (most recent call last)",
            "\u001b[0;32m<ipython-input-20-e983c2bc20cc>\u001b[0m in \u001b[0;36m<module>\u001b[0;34m\u001b[0m\n\u001b[1;32m      1\u001b[0m \u001b[0;32mimport\u001b[0m \u001b[0mscipy\u001b[0m\u001b[0;34m.\u001b[0m\u001b[0mio\u001b[0m \u001b[0;32mas\u001b[0m \u001b[0msp_io\u001b[0m\u001b[0;34m\u001b[0m\u001b[0;34m\u001b[0m\u001b[0m\n\u001b[0;32m----> 2\u001b[0;31m \u001b[0mnc_file\u001b[0m \u001b[0;34m=\u001b[0m \u001b[0msp_io\u001b[0m\u001b[0;34m.\u001b[0m\u001b[0mnetcdf_file\u001b[0m\u001b[0;34m(\u001b[0m\u001b[0;34m\"sresa1b_ncar_ccsm3-example.nc\"\u001b[0m\u001b[0;34m)\u001b[0m\u001b[0;34m\u001b[0m\u001b[0;34m\u001b[0m\u001b[0m\n\u001b[0m\u001b[1;32m      3\u001b[0m \u001b[0;34m\u001b[0m\u001b[0m\n\u001b[1;32m      4\u001b[0m \u001b[0mprint\u001b[0m\u001b[0;34m(\u001b[0m\u001b[0;34m\"Variables in the file are:\"\u001b[0m\u001b[0;34m)\u001b[0m\u001b[0;34m\u001b[0m\u001b[0;34m\u001b[0m\u001b[0m\n\u001b[1;32m      5\u001b[0m \u001b[0;32mfor\u001b[0m \u001b[0mk\u001b[0m\u001b[0;34m,\u001b[0m\u001b[0mv\u001b[0m \u001b[0;32min\u001b[0m \u001b[0mnc_file\u001b[0m\u001b[0;34m.\u001b[0m\u001b[0mvariables\u001b[0m\u001b[0;34m.\u001b[0m\u001b[0mitems\u001b[0m\u001b[0;34m(\u001b[0m\u001b[0;34m)\u001b[0m\u001b[0;34m:\u001b[0m\u001b[0;34m\u001b[0m\u001b[0;34m\u001b[0m\u001b[0m\n",
            "\u001b[0;32m/usr/local/lib/python3.7/dist-packages/scipy/io/netcdf.py\u001b[0m in \u001b[0;36m__init__\u001b[0;34m(self, filename, mode, mmap, version, maskandscale)\u001b[0m\n\u001b[1;32m    245\u001b[0m             \u001b[0mself\u001b[0m\u001b[0;34m.\u001b[0m\u001b[0mfilename\u001b[0m \u001b[0;34m=\u001b[0m \u001b[0mfilename\u001b[0m\u001b[0;34m\u001b[0m\u001b[0;34m\u001b[0m\u001b[0m\n\u001b[1;32m    246\u001b[0m             \u001b[0momode\u001b[0m \u001b[0;34m=\u001b[0m \u001b[0;34m'r+'\u001b[0m \u001b[0;32mif\u001b[0m \u001b[0mmode\u001b[0m \u001b[0;34m==\u001b[0m \u001b[0;34m'a'\u001b[0m \u001b[0;32melse\u001b[0m \u001b[0mmode\u001b[0m\u001b[0;34m\u001b[0m\u001b[0;34m\u001b[0m\u001b[0m\n\u001b[0;32m--> 247\u001b[0;31m             \u001b[0mself\u001b[0m\u001b[0;34m.\u001b[0m\u001b[0mfp\u001b[0m \u001b[0;34m=\u001b[0m \u001b[0mopen\u001b[0m\u001b[0;34m(\u001b[0m\u001b[0mself\u001b[0m\u001b[0;34m.\u001b[0m\u001b[0mfilename\u001b[0m\u001b[0;34m,\u001b[0m \u001b[0;34m'%sb'\u001b[0m \u001b[0;34m%\u001b[0m \u001b[0momode\u001b[0m\u001b[0;34m)\u001b[0m\u001b[0;34m\u001b[0m\u001b[0;34m\u001b[0m\u001b[0m\n\u001b[0m\u001b[1;32m    248\u001b[0m             \u001b[0;32mif\u001b[0m \u001b[0mmmap\u001b[0m \u001b[0;32mis\u001b[0m \u001b[0;32mNone\u001b[0m\u001b[0;34m:\u001b[0m\u001b[0;34m\u001b[0m\u001b[0;34m\u001b[0m\u001b[0m\n\u001b[1;32m    249\u001b[0m                 \u001b[0;31m# Mmapped files on PyPy cannot be usually closed\u001b[0m\u001b[0;34m\u001b[0m\u001b[0;34m\u001b[0m\u001b[0;34m\u001b[0m\u001b[0m\n",
            "\u001b[0;31mFileNotFoundError\u001b[0m: [Errno 2] No such file or directory: 'sresa1b_ncar_ccsm3-example.nc'"
          ]
        }
      ],
      "source": [
        "import scipy.io as sp_io\n",
        "nc_file = sp_io.netcdf_file(\"sresa1b_ncar_ccsm3-example.nc\")\n",
        "\n",
        "print(\"Variables in the file are:\")\n",
        "for k,v in nc_file.variables.items():\n",
        "    print(\"{}\".format(k))"
      ]
    },
    {
      "cell_type": "code",
      "execution_count": null,
      "metadata": {
        "id": "EUSfNV1EKilb"
      },
      "outputs": [],
      "source": []
    }
  ],
  "metadata": {
    "kernelspec": {
      "display_name": "Python 3 (ipykernel)",
      "language": "python",
      "name": "python3"
    },
    "language_info": {
      "codemirror_mode": {
        "name": "ipython",
        "version": 3
      },
      "file_extension": ".py",
      "mimetype": "text/x-python",
      "name": "python",
      "nbconvert_exporter": "python",
      "pygments_lexer": "ipython3",
      "version": "3.8.5"
    },
    "colab": {
      "provenance": [],
      "include_colab_link": true
    }
  },
  "nbformat": 4,
  "nbformat_minor": 0
}