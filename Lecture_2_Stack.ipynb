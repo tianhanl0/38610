{
  "nbformat": 4,
  "nbformat_minor": 0,
  "metadata": {
    "colab": {
      "provenance": [],
      "include_colab_link": true
    },
    "kernelspec": {
      "name": "python3",
      "display_name": "Python 3"
    },
    "language_info": {
      "name": "python"
    }
  },
  "cells": [
    {
      "cell_type": "markdown",
      "metadata": {
        "id": "view-in-github",
        "colab_type": "text"
      },
      "source": [
        "<a href=\"https://colab.research.google.com/github/tianhanl0/38610/blob/main/Lecture_2_Stack.ipynb\" target=\"_parent\"><img src=\"https://colab.research.google.com/assets/colab-badge.svg\" alt=\"Open In Colab\"/></a>"
      ]
    },
    {
      "cell_type": "markdown",
      "source": [
        "# Stack\n",
        "Naive implementation of a [Stack](https://en.wikipedia.org/wiki/Stack_(abstract_data_type)).\n",
        "\n",
        "## Method\n",
        "* `push( element )`\n",
        "* `pop()`\n",
        "* `peek()`\n",
        "* `isEmpty()`\n",
        "* `size()`"
      ],
      "metadata": {
        "id": "oB0wHoArLPhg"
      }
    },
    {
      "cell_type": "code",
      "execution_count": 1,
      "metadata": {
        "id": "k_rYL-x1LM9G"
      },
      "outputs": [],
      "source": [
        "# DO NOT MODIFY THIS CODE BLOCK\n",
        "# https://github.com/CMU-MS-DAS-Modern-Programming-Mini/python-example-stack/blob/master/Stack.py\n",
        "\n",
        "class Stack:\n",
        "    def __init__(self):\n",
        "        '''\n",
        "        Default constructor\n",
        "        '''\n",
        "\n",
        "        self.elements = []\n",
        "\n",
        "    def push(self, element):\n",
        "        '''\n",
        "        Push element to the stack\n",
        "        :param element:\n",
        "        '''\n",
        "\n",
        "        self.elements.insert(0,element)\n",
        "\n",
        "    def pop(self):\n",
        "        '''\n",
        "        Pop top element of the stack\n",
        "        :return: element\n",
        "        '''\n",
        "\n",
        "        if not self.isEmpty():\n",
        "            return self.elements.pop(0)\n",
        "        else:\n",
        "            return None\n",
        "\n",
        "    def peek(self):\n",
        "        '''\n",
        "        Peek element at the top of the stack\n",
        "        :return: element\n",
        "        '''\n",
        "\n",
        "        if not self.isEmpty():\n",
        "            return self.elements[0]\n",
        "        else:\n",
        "            return None\n",
        "\n",
        "    def isEmpty(self):\n",
        "        '''\n",
        "        Check if stack is empty\n",
        "        :return: true if empty, false otherwise\n",
        "        '''\n",
        "\n",
        "        if len(self.elements) == 0:\n",
        "            return True\n",
        "        else:\n",
        "            return False\n",
        "\n",
        "    def size(self):\n",
        "        '''\n",
        "        Size of the stack\n",
        "        :return: number of elements in the stack\n",
        "        '''\n",
        "        return len(self.elements)\n",
        "\n",
        "    def tolist(self):\n",
        "        '''\n",
        "        Returns stack as a list\n",
        "        :return: list\n",
        "        '''\n",
        "\n",
        "        return self.elements"
      ]
    },
    {
      "cell_type": "code",
      "source": [
        "s = Stack()\n",
        "assert s.size() == 0 # use to test code\n",
        "s.push(1)\n",
        "size = s.size()\n",
        "\n",
        "for i in range(100):\n",
        "  s.push(i)\n",
        "\n",
        "size = s.size()\n",
        "%whos # output variables"
      ],
      "metadata": {
        "id": "rAviteEAWmMc",
        "outputId": "e765e71c-6045-43a7-ffbb-88f4027a2a91",
        "colab": {
          "base_uri": "https://localhost:8080/"
        }
      },
      "execution_count": 8,
      "outputs": [
        {
          "output_type": "stream",
          "name": "stdout",
          "text": [
            "Variable   Type     Data/Info\n",
            "-----------------------------\n",
            "Stack      type     <class '__main__.Stack'>\n",
            "i          int      99\n",
            "s          Stack    <__main__.Stack object at 0x7fdc03096dd0>\n",
            "size       int      101\n"
          ]
        }
      ]
    }
  ]
}