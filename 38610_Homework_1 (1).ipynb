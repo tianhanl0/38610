{
  "nbformat": 4,
  "nbformat_minor": 0,
  "metadata": {
    "colab": {
      "provenance": []
    },
    "kernelspec": {
      "name": "python3",
      "display_name": "Python 3"
    },
    "language_info": {
      "name": "python"
    }
  },
  "cells": [
    {
      "cell_type": "markdown",
      "source": [
        "# Modern Programming for Data Analytics\n",
        "Name: Tianhan Ling\n",
        "\n",
        "Andrew ID: tianhanl"
      ],
      "metadata": {
        "id": "q32gveKttS1e"
      }
    },
    {
      "cell_type": "markdown",
      "source": [
        "# Exercise - Using `pip` to install packages\n",
        "Install the package [cowsay](https://pypi.org/project/cowsay/) using `pip`.\n",
        "\n",
        "Read the package documentation and write the commands to print the following diagram\n",
        "\n",
        "```\n",
        "  _____________\n",
        "| Ghostbusters! |\n",
        "  =============\n",
        "                     \\\n",
        "                      \\\n",
        "                       \\\n",
        "                        \\\n",
        "                                    __---__\n",
        "                                 _-       /--______\n",
        "                            __--( /     \\ )XXXXXXXXXXX\\v.\n",
        "                          .-XXX(   O   O  )XXXXXXXXXXXXXXX-\n",
        "                         /XXX(       U     )        XXXXXXX\\\n",
        "                       /XXXXX(              )--_  XXXXXXXXXXX\\\n",
        "                      /XXXXX/ (      O     )   XXXXXX   \\XXXXX\\\n",
        "                      XXXXX/   /            XXXXXX   \\__ \\XXXXX\n",
        "                      XXXXXX__/          XXXXXX         \\__---->\n",
        "              ---___  XXX__/          XXXXXX      \\__         /\n",
        "                \\-  --__/   ___/\\  XXXXXX            /  ___--/=\n",
        "                 \\-\\    ___/    XXXXXX              '--- XXXXXX\n",
        "                    \\-\\/XXX\\ XXXXXX                      /XXXXX\n",
        "                      \\XXXXXXXXX   \\                    /XXXXX/\n",
        "                       \\XXXXXX      >                 _/XXXXX/\n",
        "                         \\XXXXX--__/              __-- XXXX/\n",
        "                          -XXXXXXXX---------------  XXXXXX-\n",
        "                             \\XXXXXXXXXXXXXXXXXXXXXXXXXX/\n",
        "                               \"\"VXXXXXXXXXXXXXXXXXXV\"\"\n",
        "```"
      ],
      "metadata": {
        "id": "rZpjQ6Yged6i"
      }
    },
    {
      "cell_type": "code",
      "source": [
        "!pip install cowsay"
      ],
      "metadata": {
        "colab": {
          "base_uri": "https://localhost:8080/"
        },
        "id": "dpcyOdaZDcDY",
        "outputId": "6162ff5b-ec42-471d-aa19-c93ff2742757"
      },
      "execution_count": 2,
      "outputs": [
        {
          "output_type": "stream",
          "name": "stdout",
          "text": [
            "Looking in indexes: https://pypi.org/simple, https://us-python.pkg.dev/colab-wheels/public/simple/\n",
            "Collecting cowsay\n",
            "  Downloading cowsay-5.0.tar.gz (25 kB)\n",
            "Building wheels for collected packages: cowsay\n",
            "  Building wheel for cowsay (setup.py) ... \u001b[?25l\u001b[?25hdone\n",
            "  Created wheel for cowsay: filename=cowsay-5.0-py2.py3-none-any.whl size=25725 sha256=79212107fcc098b982b557b36bb749f4c307f9353cd4917ee6d7a54c7f02a29e\n",
            "  Stored in directory: /root/.cache/pip/wheels/ec/64/04/df66e4b3e5afa8fc293c3c5fae0269a55b80f381d833010aeb\n",
            "Successfully built cowsay\n",
            "Installing collected packages: cowsay\n",
            "Successfully installed cowsay-5.0\n"
          ]
        }
      ]
    },
    {
      "cell_type": "code",
      "execution_count": 3,
      "metadata": {
        "id": "TvbZcWBAedAf",
        "colab": {
          "base_uri": "https://localhost:8080/"
        },
        "outputId": "765cb307-989c-4046-ef9c-e1aec653a234"
      },
      "outputs": [
        {
          "output_type": "stream",
          "name": "stdout",
          "text": [
            "  _____________\n",
            "| Ghostbusters! |\n",
            "  =============\n",
            "                     \\\n",
            "                      \\\n",
            "                       \\\n",
            "                        \\\n",
            "                                    __---__\n",
            "                                 _-       /--______\n",
            "                            __--( /     \\ )XXXXXXXXXXX\\v.\n",
            "                          .-XXX(   O   O  )XXXXXXXXXXXXXXX-\n",
            "                         /XXX(       U     )        XXXXXXX\\\n",
            "                       /XXXXX(              )--_  XXXXXXXXXXX\\\n",
            "                      /XXXXX/ (      O     )   XXXXXX   \\XXXXX\\\n",
            "                      XXXXX/   /            XXXXXX   \\__ \\XXXXX\n",
            "                      XXXXXX__/          XXXXXX         \\__---->\n",
            "              ---___  XXX__/          XXXXXX      \\__         /\n",
            "                \\-  --__/   ___/\\  XXXXXX            /  ___--/=\n",
            "                 \\-\\    ___/    XXXXXX              '--- XXXXXX\n",
            "                    \\-\\/XXX\\ XXXXXX                      /XXXXX\n",
            "                      \\XXXXXXXXX   \\                    /XXXXX/\n",
            "                       \\XXXXXX      >                 _/XXXXX/\n",
            "                         \\XXXXX--__/              __-- XXXX/\n",
            "                          -XXXXXXXX---------------  XXXXXX-\n",
            "                             \\XXXXXXXXXXXXXXXXXXXXXXXXXX/\n",
            "                               \"\"VXXXXXXXXXXXXXXXXXXV\"\"\n"
          ]
        }
      ],
      "source": [
        "import cowsay\n",
        "cowsay.ghostbusters('Ghostbusters!')"
      ]
    },
    {
      "cell_type": "markdown",
      "source": [
        "# Exercise - Faker\n",
        "[Faker](https://pypi.org/project/Faker/) is a Python package that generates fake data for you. Whether you need to bootstrap your database, create good-looking XML documents, fill-in your persistence to stress test it, or anonymize data taken from a production service, Faker is for you.\n",
        "\n",
        "The cell below defines the method `generate_fake_records` that generates fake data and stores the data in a dictionary named `team`."
      ],
      "metadata": {
        "id": "pOdGLNPGl9tK"
      }
    },
    {
      "cell_type": "code",
      "source": [
        "# DO NOT MODIFY THIS CELL\n",
        "\n",
        "!pip install faker\n",
        "import numpy as np\n",
        "from faker import Faker\n",
        "\n",
        "fake = Faker()\n",
        "\n",
        "def generate_fake_records( number_of_records ):\n",
        "  '''\n",
        "  Helper function that generates a fake team member record.\n",
        "\n",
        "  :param number_of_records: Number of records to generate\n",
        "  :type number_of_records: integer\n",
        "  :rtype: list of dictionaries\n",
        "  '''\n",
        "\n",
        "  status_list = ['Full Time', 'Part Time']\n",
        "  team_list = ['Data curator','Data wrangler', 'Data analyst','Project manager']\n",
        "  \n",
        "\n",
        "  data = [{'ID':x+1000,\n",
        "          'Name':fake.name(), \n",
        "          'Hire Date':fake.date_between(start_date='-25y', end_date='today'),\n",
        "          'Status':np.random.choice(status_list, p=[0.50, 0.50]),\n",
        "          'Role':np.random.choice(team_list)} for x in range(number_of_records)]\n",
        "      \n",
        "  return data\n",
        "\n",
        "team = generate_fake_records(number_of_records=25)"
      ],
      "metadata": {
        "id": "J_M23E-ul_y4",
        "colab": {
          "base_uri": "https://localhost:8080/"
        },
        "outputId": "97639e00-a3df-472f-8076-4e4d95277781"
      },
      "execution_count": 4,
      "outputs": [
        {
          "output_type": "stream",
          "name": "stdout",
          "text": [
            "Looking in indexes: https://pypi.org/simple, https://us-python.pkg.dev/colab-wheels/public/simple/\n",
            "Collecting faker\n",
            "  Downloading Faker-14.2.0-py3-none-any.whl (1.6 MB)\n",
            "\u001b[K     |████████████████████████████████| 1.6 MB 15.3 MB/s \n",
            "\u001b[?25hRequirement already satisfied: python-dateutil>=2.4 in /usr/local/lib/python3.7/dist-packages (from faker) (2.8.2)\n",
            "Requirement already satisfied: typing-extensions>=3.7.4.3 in /usr/local/lib/python3.7/dist-packages (from faker) (4.1.1)\n",
            "Requirement already satisfied: six>=1.5 in /usr/local/lib/python3.7/dist-packages (from python-dateutil>=2.4->faker) (1.15.0)\n",
            "Installing collected packages: faker\n",
            "Successfully installed faker-14.2.0\n"
          ]
        }
      ]
    },
    {
      "cell_type": "markdown",
      "source": [
        "Tabulate pretty-prints tabular data in Python. It is a library and a command-line utility. Install the package [tabulate](https://pypi.org/project/tabulate/) using `pip`.\n",
        "\n",
        "Read the package documentation and write the necessary code to pretty print the dictionary `team` like the example below\n",
        "\n",
        "```\n",
        "|   ID | Name              | Hire Date   | Status    | Role            |\n",
        "|------|-------------------|-------------|-----------|-----------------|\n",
        "| 1000 | Linda Mcintyre    | 2015-05-21  | Part Time | Project manager |\n",
        "| 1001 | John Garner       | 2005-05-28  | Part Time | Data curator    |\n",
        "| 1002 | Sarah Hoover      | 2015-11-28  | Part Time | Data analyst    |\n",
        "| 1003 | Charles Flores    | 2003-11-16  | Part Time | Project manager |\n",
        "| 1004 | Todd Jones        | 2018-09-14  | Full Time | Data curator    |\n",
        "| 1005 | Kara Marks        | 2016-04-27  | Part Time | Data analyst    |\n",
        "| 1006 | Lee Smith         | 2002-02-07  | Part Time | Data analyst    |\n",
        "| 1007 | Douglas Johnson   | 2021-05-10  | Full Time | Data curator    |\n",
        "| 1008 | Jonathan Garcia   | 2015-07-28  | Full Time | Data wrangler   |\n",
        "| 1009 | William Hopkins   | 2009-02-23  | Part Time | Data analyst    |\n",
        "| 1010 | Candace Ellis     | 2005-09-12  | Full Time | Project manager |\n",
        "| 1011 | Edward Andersen   | 2017-01-25  | Full Time | Data wrangler   |\n",
        "| 1012 | Katie Stewart     | 2007-02-18  | Full Time | Data analyst    |\n",
        "| 1013 | Carolyn Mercado   | 2010-02-08  | Part Time | Data curator    |\n",
        "| 1014 | Heather Fowler    | 2014-10-16  | Part Time | Data wrangler   |\n",
        "| 1015 | Louis Miller      | 2015-10-25  | Part Time | Project manager |\n",
        "| 1016 | James Rojas       | 2013-05-19  | Full Time | Data analyst    |\n",
        "| 1017 | Richard Patterson | 2017-04-22  | Full Time | Data curator    |\n",
        "| 1018 | Joshua Ford       | 2013-06-08  | Part Time | Data analyst    |\n",
        "| 1019 | Katherine Warren  | 2005-02-08  | Part Time | Data curator    |\n",
        "| 1020 | Lawrence Reynolds | 2010-12-28  | Part Time | Project manager |\n",
        "| 1021 | Jay Patterson     | 2003-12-29  | Part Time | Data curator    |\n",
        "| 1022 | Mary Zimmerman    | 2019-03-15  | Full Time | Data curator    |\n",
        "| 1023 | Deanna Peterson   | 2016-03-16  | Part Time | Project manager |\n",
        "| 1024 | Shane Ellis       | 2020-03-14  | Full Time | Data analyst    |\n",
        "```"
      ],
      "metadata": {
        "id": "WWQRe-Wjl_63"
      }
    },
    {
      "cell_type": "code",
      "source": [
        "pip install tabulate"
      ],
      "metadata": {
        "id": "FAwdJ_TY4tzu",
        "colab": {
          "base_uri": "https://localhost:8080/"
        },
        "outputId": "6949d0f8-9692-409a-bacb-79ec97f286bf"
      },
      "execution_count": 5,
      "outputs": [
        {
          "output_type": "stream",
          "name": "stdout",
          "text": [
            "Looking in indexes: https://pypi.org/simple, https://us-python.pkg.dev/colab-wheels/public/simple/\n",
            "Requirement already satisfied: tabulate in /usr/local/lib/python3.7/dist-packages (0.8.10)\n"
          ]
        }
      ]
    },
    {
      "cell_type": "code",
      "source": [
        "from tabulate import tabulate\n",
        "\n",
        "print(tabulate(team, headers=\"keys\", tablefmt=\"github\"))"
      ],
      "metadata": {
        "colab": {
          "base_uri": "https://localhost:8080/"
        },
        "id": "s1oSa8s_EHb-",
        "outputId": "3cf14b79-d12f-4335-c89b-44552bfe664b"
      },
      "execution_count": 6,
      "outputs": [
        {
          "output_type": "stream",
          "name": "stdout",
          "text": [
            "|   ID | Name                   | Hire Date   | Status    | Role            |\n",
            "|------|------------------------|-------------|-----------|-----------------|\n",
            "| 1000 | James Short            | 2009-03-19  | Full Time | Project manager |\n",
            "| 1001 | Jessica Schwartz       | 2010-12-31  | Full Time | Data analyst    |\n",
            "| 1002 | Kaitlyn Levine         | 2010-11-13  | Part Time | Data analyst    |\n",
            "| 1003 | Cheryl Aguilar         | 2013-05-17  | Full Time | Project manager |\n",
            "| 1004 | Misty Matthews         | 2022-07-10  | Part Time | Data curator    |\n",
            "| 1005 | Christy Burgess        | 2019-04-27  | Part Time | Data analyst    |\n",
            "| 1006 | Lisa Malone            | 2012-09-19  | Part Time | Data curator    |\n",
            "| 1007 | Melissa Mitchell       | 2011-04-19  | Full Time | Project manager |\n",
            "| 1008 | Sarah Patterson        | 2013-09-16  | Full Time | Project manager |\n",
            "| 1009 | Latoya Gibson          | 2018-08-15  | Full Time | Data analyst    |\n",
            "| 1010 | Vickie Durham          | 2004-01-05  | Part Time | Data curator    |\n",
            "| 1011 | Makayla Vargas         | 1999-09-30  | Part Time | Data analyst    |\n",
            "| 1012 | Daniel Cowan           | 2020-08-05  | Full Time | Data curator    |\n",
            "| 1013 | Joseph Petty           | 2005-01-19  | Part Time | Data analyst    |\n",
            "| 1014 | Elizabeth Franklin DDS | 1998-12-13  | Full Time | Project manager |\n",
            "| 1015 | Dr. David Krueger IV   | 2004-11-24  | Full Time | Project manager |\n",
            "| 1016 | Sherry Lindsey         | 1998-05-09  | Full Time | Project manager |\n",
            "| 1017 | Amanda Odom            | 2001-07-02  | Part Time | Project manager |\n",
            "| 1018 | Scott Dunn             | 2022-06-10  | Full Time | Data analyst    |\n",
            "| 1019 | Andrew Krause          | 2013-12-19  | Full Time | Project manager |\n",
            "| 1020 | Selena Chambers        | 2005-02-05  | Full Time | Data curator    |\n",
            "| 1021 | Timothy Wilson         | 2005-07-25  | Part Time | Project manager |\n",
            "| 1022 | Jennifer Flores        | 1999-08-16  | Part Time | Project manager |\n",
            "| 1023 | James Garcia           | 2011-02-15  | Part Time | Data analyst    |\n",
            "| 1024 | Patricia Guerra        | 2005-09-01  | Full Time | Data curator    |\n"
          ]
        }
      ]
    },
    {
      "cell_type": "markdown",
      "source": [
        "# Exercise - Python Standard Library\n",
        "Use the [docstrings](https://realpython.com/documenting-python-code/) and the [assertions](https://realpython.com/python-assert-statement/) in the cell below as a guide to implement the method `get_n_elements`.\n"
      ],
      "metadata": {
        "id": "zluEy8OW4xED"
      }
    },
    {
      "cell_type": "code",
      "source": [
        "# COMPLETE METHOD AND RUN\n",
        "\n",
        "def get_n_elements( list, n=10 ):\n",
        "  '''\n",
        "  Helper method that returns the first n elements in a sorted list\n",
        "\n",
        "  :param list: list of integers\n",
        "  :type list: list\n",
        "  :param n: number of elements to return\n",
        "  :type n: integer\n",
        "  :rtype answer: sorted list of n elements\n",
        "  '''\n",
        "  list.sort()\n",
        "  res = []\n",
        "  if n <= 0:\n",
        "    return res\n",
        "  while n <= len(list):\n",
        "    if n == len(list):\n",
        "      return list\n",
        "    else:\n",
        "      for i in range(n):\n",
        "        res.append(list[i])\n",
        "      return res\n",
        "\n",
        "  raise NotImplementedError()\n",
        "\n",
        "assert get_n_elements([1,2,3,4,5,6,7,8], 3) == [1,2,3]\n",
        "assert get_n_elements([8,7,6,5,4,3,2,1], 3) == [1,2,3]\n",
        "assert get_n_elements([8,7,6,5,4,3,2,1], 5) == [1,2,3,4,5]\n",
        "assert get_n_elements([8,7,6,5,4,3,2,1], 0) == []\n",
        "assert get_n_elements([8,7,6,5,4,3,2,1], -10) == []"
      ],
      "metadata": {
        "id": "M6oRvEfo4t1J"
      },
      "execution_count": 7,
      "outputs": []
    },
    {
      "cell_type": "markdown",
      "source": [
        "## Exercise - Python Standard Library\n",
        "Design an implement a method called `is_palindrome`. \n",
        "\n",
        "* Use only the standard libary.\n",
        "* This method takes an integer and returns True if the number is a [palindrome](https://en.wikipedia.org/wiki/Palindromic_number). False, otherwise.\n",
        "* If the input argument is not an integer, e.g. a string, then the method should return `None`.\n",
        "* Write docstrings for this method.\n",
        "* Write at least 4 assertions to test your method."
      ],
      "metadata": {
        "id": "zBqatJorqEwN"
      }
    },
    {
      "cell_type": "code",
      "source": [
        "def is_palindrome( n ):\n",
        "  '''\n",
        "  Helper method that determine if the input is a palindrome\n",
        "\n",
        "  :param n: object need to check\n",
        "  :type n: integer\n",
        "  :rtype answer: Boolean \n",
        "  '''\n",
        "  # if input is not int return None\n",
        "  if isinstance(n, int) == False:\n",
        "    return None\n",
        "  #create a list of number in n in order to have loop afterward\n",
        "  n = str(n)\n",
        "  list = []\n",
        "  for i in n:\n",
        "    list.append(i)\n",
        "  #set up the starting points of the loop\n",
        "  l = 0\n",
        "  r = len(list) - 1\n",
        "  #make sure digits are symmetric\n",
        "  while l <= r:\n",
        "    if list[l] == list[r]:\n",
        "      l += 1\n",
        "      r -= 1\n",
        "    #if is not symmetirc return False\n",
        "    else:\n",
        "      return False\n",
        "  #otherwise, return True\n",
        "  return True\n",
        "\n",
        "assert is_palindrome( 1234 ) == False\n",
        "assert is_palindrome(12321) == True\n",
        "assert is_palindrome('123') == None\n",
        "assert is_palindrome(257752) == True"
      ],
      "metadata": {
        "id": "2jr7TEcIqEEZ"
      },
      "execution_count": 8,
      "outputs": []
    },
    {
      "cell_type": "markdown",
      "source": [
        "# Exercise - SIR model\n",
        "The SIR model is a simple mathematical model of epidemics. The entities in this model stand for\n",
        "\n",
        "* (S)usceptible: inviduals that are not infected with the disease yet. However, they are not immune to it either, and so they can become infected with the disease in the future.\n",
        "* (I)nfected or infectious: individuals that are infected with the disease and can transmit the disease to susceptible people.\n",
        "* (R)ecovered: individuals who have recovered from the disease and are immune, so they can no longer be infected.\n",
        "\n",
        "In the most basic form, this model model can be represented as\n",
        "\n",
        "<img src=\"https://wikimedia.org/api/rest_v1/media/math/render/svg/c2a8fd2e93bfcf1092a44cfec7ef32c1a80a26f4\" />\n",
        "\n",
        "where \n",
        "\n",
        "* β is the average number of contacts per person per time\n",
        "* γ is the probability a contagious person becoming non-contagious\n",
        "* N is the population size (constant)\n",
        "\n",
        "Solve the system using the [`odeint`](https://docs.scipy.org/doc/scipy/tutorial/integrate.html) solver from scipy.\n",
        "\n",
        "Use these as your parameters for the solver\n",
        "\n",
        "* `beta = 0.2`\n",
        "* `gamma = 0.07`\n",
        "* `N = 100`\n",
        "* `S0 = 99`\n",
        "* `I = 1`\n",
        "* `R = 0`\n",
        "\n",
        "\n",
        "\n"
      ],
      "metadata": {
        "id": "fDxGQ4CC9uNw"
      }
    },
    {
      "cell_type": "code",
      "source": [
        "import numpy as np\n",
        "from scipy.integrate import odeint\n",
        "\n",
        "def model1(SIR,t,beta,gamma,N):\n",
        "  S,I,R = SIR\n",
        "  dSdt = - beta*I*S/N\n",
        "  dIdt = beta*I*S/N - gamma*I\n",
        "  dRdt = gamma*I\n",
        "  return [dSdt,dIdt,dRdt]\n",
        "\n",
        "beta = 0.2\n",
        "gamma = 0.07\n",
        "N = 100\n",
        "S_0 = 99\n",
        "I = 1\n",
        "R = 0\n",
        "\n",
        "x0 = [S_0,I,R]\n",
        "\n",
        "t = np.linspace(0, 50, 200)\n",
        "\n",
        "res = odeint(model1, x0, t, args =(beta,gamma,N))"
      ],
      "metadata": {
        "id": "9JGRfnzwV4em"
      },
      "execution_count": 9,
      "outputs": []
    },
    {
      "cell_type": "markdown",
      "source": [
        "## Pretty print results\n",
        "Use [tabulate](https://pypi.org/project/tabulate/) to pretty print the first and the last 50 data points returned by the ODE solver. The table should have 4 columns: (t)ime, S, I and R."
      ],
      "metadata": {
        "id": "Xiw2SXsYV4xL"
      }
    },
    {
      "cell_type": "code",
      "source": [
        "t1 = []\n",
        "for i in range(50):\n",
        "  t1.append(t[i])\n",
        "for i in range(150,200):\n",
        "  t1.append(t[i])\n",
        "S1 = []\n",
        "for i in range(50):\n",
        "  S1.append(res[i,0])\n",
        "for i in range(150,200):\n",
        "  S1.append(res[i,0])\n",
        "I1 = []\n",
        "for i in range(50):\n",
        "  I1.append(res[i,1])\n",
        "for i in range(150,200):\n",
        "  I1.append(res[i,1])\n",
        "R1 = []\n",
        "for i in range(50):\n",
        "  R1.append(res[i,2])\n",
        "for i in range(150,200):\n",
        "  R1.append(res[i,2])"
      ],
      "metadata": {
        "id": "ue_5o7t8bTa0"
      },
      "execution_count": 10,
      "outputs": []
    },
    {
      "cell_type": "code",
      "source": [
        "from tabulate import tabulate\n",
        "\n",
        "sets = [{'(t)ime': t1[i],\n",
        "     'S': S1[i], \n",
        "     'I': I1[i],\n",
        "     'R': R1[i]} for i in range(100)] \n",
        "\n",
        "print(tabulate(sets, headers=\"keys\", tablefmt=\"github\"))"
      ],
      "metadata": {
        "id": "wbFTN6yjV731",
        "outputId": "605bd27e-e8e1-4407-9dd2-c9a9232c2b75",
        "colab": {
          "base_uri": "https://localhost:8080/"
        }
      },
      "execution_count": 11,
      "outputs": [
        {
          "output_type": "stream",
          "name": "stdout",
          "text": [
            "|    (t)ime |       S |        I |          R |\n",
            "|-----------|---------|----------|------------|\n",
            "|  0        | 99      |  1       |  0         |\n",
            "|  0.251256 | 98.9495 |  1.03267 |  0.0178737 |\n",
            "|  0.502513 | 98.8973 |  1.06638 |  0.0363312 |\n",
            "|  0.753769 | 98.8434 |  1.10116 |  0.0553909 |\n",
            "|  1.00503  | 98.7879 |  1.13705 |  0.075072  |\n",
            "|  1.25628  | 98.7305 |  1.17407 |  0.0953942 |\n",
            "|  1.50754  | 98.6714 |  1.21226 |  0.116378  |\n",
            "|  1.75879  | 98.6103 |  1.25165 |  0.138043  |\n",
            "|  2.01005  | 98.5473 |  1.29229 |  0.160413  |\n",
            "|  2.26131  | 98.4823 |  1.3342  |  0.183508  |\n",
            "|  2.51256  | 98.4152 |  1.37742 |  0.207352  |\n",
            "|  2.76382  | 98.346  |  1.422   |  0.231968  |\n",
            "|  3.01508  | 98.2747 |  1.46797 |  0.257381  |\n",
            "|  3.26633  | 98.201  |  1.51537 |  0.283614  |\n",
            "|  3.51759  | 98.1251 |  1.56424 |  0.310694  |\n",
            "|  3.76884  | 98.0467 |  1.61462 |  0.338646  |\n",
            "|  4.0201   | 97.9659 |  1.66656 |  0.367498  |\n",
            "|  4.27136  | 97.8826 |  1.7201  |  0.397278  |\n",
            "|  4.52261  | 97.7967 |  1.77528 |  0.428014  |\n",
            "|  4.77387  | 97.7081 |  1.83216 |  0.459735  |\n",
            "|  5.02513  | 97.6168 |  1.89077 |  0.492472  |\n",
            "|  5.27638  | 97.5226 |  1.95116 |  0.526255  |\n",
            "|  5.52764  | 97.4255 |  2.01339 |  0.561116  |\n",
            "|  5.77889  | 97.3254 |  2.07749 |  0.597089  |\n",
            "|  6.03015  | 97.2223 |  2.14353 |  0.634205  |\n",
            "|  6.28141  | 97.1159 |  2.21156 |  0.672501  |\n",
            "|  6.53266  | 97.0064 |  2.28162 |  0.712011  |\n",
            "|  6.78392  | 96.8935 |  2.35376 |  0.752771  |\n",
            "|  7.03518  | 96.7771 |  2.42805 |  0.794819  |\n",
            "|  7.28643  | 96.6573 |  2.50453 |  0.838193  |\n",
            "|  7.53769  | 96.5338 |  2.58327 |  0.882931  |\n",
            "|  7.78894  | 96.4066 |  2.66431 |  0.929075  |\n",
            "|  8.0402   | 96.2756 |  2.74771 |  0.976664  |\n",
            "|  8.29146  | 96.1407 |  2.83354 |  1.02574   |\n",
            "|  8.54271  | 96.0018 |  2.92185 |  1.07635   |\n",
            "|  8.79397  | 95.8588 |  3.01269 |  1.12854   |\n",
            "|  9.04523  | 95.7115 |  3.10614 |  1.18234   |\n",
            "|  9.29648  | 95.5599 |  3.20224 |  1.23781   |\n",
            "|  9.54774  | 95.4039 |  3.30106 |  1.295     |\n",
            "|  9.79899  | 95.2434 |  3.40266 |  1.35395   |\n",
            "| 10.0503   | 95.0782 |  3.5071  |  1.41471   |\n",
            "| 10.3015   | 94.9082 |  3.61444 |  1.47733   |\n",
            "| 10.5528   | 94.7334 |  3.72474 |  1.54186   |\n",
            "| 10.804    | 94.5536 |  3.83807 |  1.60837   |\n",
            "| 11.0553   | 94.3686 |  3.95448 |  1.67689   |\n",
            "| 11.3065   | 94.1785 |  4.07404 |  1.74749   |\n",
            "| 11.5578   | 93.983  |  4.19681 |  1.82022   |\n",
            "| 11.809    | 93.782  |  4.32284 |  1.89513   |\n",
            "| 12.0603   | 93.5755 |  4.45221 |  1.9723    |\n",
            "| 12.3116   | 93.3633 |  4.58497 |  2.05176   |\n",
            "| 37.6884   | 40.5008 | 28.2163  | 31.283     |\n",
            "| 37.9397   | 39.9298 | 28.2903  | 31.7799    |\n",
            "| 38.191    | 39.3655 | 28.3564  | 32.2781    |\n",
            "| 38.4422   | 38.8079 | 28.4147  | 32.7773    |\n",
            "| 38.6935   | 38.2573 | 28.4652  | 33.2775    |\n",
            "| 38.9447   | 37.7135 | 28.5079  | 33.7786    |\n",
            "| 39.196    | 37.1767 | 28.543   | 34.2803    |\n",
            "| 39.4472   | 36.6471 | 28.5704  | 34.7825    |\n",
            "| 39.6985   | 36.1245 | 28.5903  | 35.2852    |\n",
            "| 39.9497   | 35.6091 | 28.6027  | 35.7882    |\n",
            "| 40.201    | 35.1009 | 28.6078  | 36.2913    |\n",
            "| 40.4523   | 34.5999 | 28.6057  | 36.7945    |\n",
            "| 40.7035   | 34.1061 | 28.5964  | 37.2975    |\n",
            "| 40.9548   | 33.6197 | 28.58    | 37.8003    |\n",
            "| 41.206    | 33.1405 | 28.5568  | 38.3028    |\n",
            "| 41.4573   | 32.6685 | 28.5267  | 38.8048    |\n",
            "| 41.7085   | 32.2038 | 28.49    | 39.3062    |\n",
            "| 41.9598   | 31.7464 | 28.4467  | 39.8069    |\n",
            "| 42.2111   | 31.2962 | 28.397   | 40.3068    |\n",
            "| 42.4623   | 30.8532 | 28.341   | 40.8058    |\n",
            "| 42.7136   | 30.4174 | 28.2789  | 41.3037    |\n",
            "| 42.9648   | 29.9887 | 28.2108  | 41.8005    |\n",
            "| 43.2161   | 29.5671 | 28.1369  | 42.296     |\n",
            "| 43.4673   | 29.1526 | 28.0572  | 42.7902    |\n",
            "| 43.7186   | 28.7451 | 27.9721  | 43.2829    |\n",
            "| 43.9698   | 28.3445 | 27.8815  | 43.7741    |\n",
            "| 44.2211   | 27.9508 | 27.7856  | 44.2636    |\n",
            "| 44.4724   | 27.5639 | 27.6847  | 44.7514    |\n",
            "| 44.7236   | 27.1838 | 27.5788  | 45.2374    |\n",
            "| 44.9749   | 26.8104 | 27.4681  | 45.7215    |\n",
            "| 45.2261   | 26.4437 | 27.3527  | 46.2036    |\n",
            "| 45.4774   | 26.0835 | 27.2329  | 46.6836    |\n",
            "| 45.7286   | 25.7298 | 27.1087  | 47.1615    |\n",
            "| 45.9799   | 25.3824 | 26.9804  | 47.6372    |\n",
            "| 46.2312   | 25.0415 | 26.848   | 48.1106    |\n",
            "| 46.4824   | 24.7067 | 26.7117  | 48.5816    |\n",
            "| 46.7337   | 24.3782 | 26.5717  | 49.0501    |\n",
            "| 46.9849   | 24.0557 | 26.4281  | 49.5162    |\n",
            "| 47.2362   | 23.7392 | 26.2811  | 49.9798    |\n",
            "| 47.4874   | 23.4286 | 26.1307  | 50.4407    |\n",
            "| 47.7387   | 23.1239 | 25.9772  | 50.8989    |\n",
            "| 47.9899   | 22.8249 | 25.8207  | 51.3544    |\n",
            "| 48.2412   | 22.5315 | 25.6613  | 51.8072    |\n",
            "| 48.4925   | 22.2437 | 25.4992  | 52.2571    |\n",
            "| 48.7437   | 21.9614 | 25.3345  | 52.7041    |\n",
            "| 48.995    | 21.6845 | 25.1672  | 53.1482    |\n",
            "| 49.2462   | 21.4129 | 24.9977  | 53.5894    |\n",
            "| 49.4975   | 21.1465 | 24.8259  | 54.0275    |\n",
            "| 49.7487   | 20.8853 | 24.6521  | 54.4626    |\n",
            "| 50        | 20.6291 | 24.4763  | 54.8947    |\n"
          ]
        }
      ]
    },
    {
      "cell_type": "markdown",
      "source": [
        "## Save variables to disk\n",
        "Use [pickle](https://docs.python.org/3/library/pickle.html) to serialize the variables `S`, `I`, `R` and `t`. Save the pickle file to the course folder in your Google Drive in a file named `sir.pkl`. \n",
        "\n",
        "Hint: for example, store the variables in a dictionary and then dump the dictionary to a pickle file."
      ],
      "metadata": {
        "id": "kshoCNsWV8Zz"
      }
    },
    {
      "cell_type": "code",
      "source": [
        "from google.colab import drive\n",
        "drive.mount('/content/drive')"
      ],
      "metadata": {
        "colab": {
          "base_uri": "https://localhost:8080/"
        },
        "id": "1OX1e8nlDWwF",
        "outputId": "89e02716-2bbc-4064-a9e6-6a1ec8800e08"
      },
      "execution_count": 14,
      "outputs": [
        {
          "output_type": "stream",
          "name": "stdout",
          "text": [
            "Mounted at /content/drive\n"
          ]
        }
      ]
    },
    {
      "cell_type": "code",
      "source": [
        "import pickle\n",
        "\n",
        "# save information to disk\n",
        "a = sets\n",
        "filename = '/content/drive/My Drive/38610/sir.pkl'\n",
        "f = open(filename,'wb') #write mode (binary mode)\n",
        "pickle.dump(a,f)\n",
        "f.close()\n",
        "\n",
        "del a"
      ],
      "metadata": {
        "id": "Fb7_lnNE55UY"
      },
      "execution_count": 15,
      "outputs": []
    },
    {
      "cell_type": "markdown",
      "source": [
        "# Exercise - Matrix multiplication using `numpy`\n",
        "Design an implement a method called `can_be_multiplied`. \n",
        "\n",
        "* Use only the standard libary and `numpy`.\n",
        "* This method takes two Numpy arrays and returns True if these two matrices can be multiplied. False, otherwise.\n",
        "* Work on the assumption that if the input arguments are `a` and `b` (in that order), then the operation `a*b` will be checked by this method and not `b*a`.\n",
        "* If the input argument is not a Numpy array, then the method should return `None`.\n",
        "* Write docstrings for this method.\n",
        "* Write at least 4 assertions to test your method."
      ],
      "metadata": {
        "id": "y4Q5bs-4ujiw"
      }
    },
    {
      "cell_type": "code",
      "source": [
        "import numpy as np\n",
        "def can_be_multiplied(a, b):\n",
        "  '''\n",
        "  Helper method that determine whether two matrix can be nultiplied\n",
        "  if not matrix return None\n",
        "\n",
        "  :param a: object \n",
        "  :type matrix: numpy.array\n",
        "  :param b: object\n",
        "  :type matrix: numpy.array\n",
        "  :rtype answer: boolean or None\n",
        "  '''\n",
        "  if type(a) == np.ndarray and type(b) == np.ndarray:\n",
        "    try:\n",
        "      if a.shape[1] == b.shape[0]:\n",
        "        return True\n",
        "      else:\n",
        "        return False\n",
        "    except:\n",
        "      if a.shape[0] == b.shape[0]:\n",
        "        return True\n",
        "      else:\n",
        "        return False\n",
        "  else:\n",
        "    return None\n",
        "\n",
        "assert can_be_multiplied([1,2,3],[2,3,4]) == None\n",
        "assert can_be_multiplied(np.array([[1,2,3],[2,3,4]]), np.array([[1,2],[3,4],[5,6]])) == True\n",
        "assert can_be_multiplied(np.array([1,2,3]), np.array([[1,2],[3,4],[5,6]])) == True\n",
        "assert can_be_multiplied(np.array([1,2,3]), np.array([[1,2,3],[3,4,5],[5,6,7],[7,8,9]])) == False\n",
        "assert can_be_multiplied(np.array([1,2,3]), np.array([[1,2,3],[3,4,5]])) == False"
      ],
      "metadata": {
        "id": "aGKEp07vujpy"
      },
      "execution_count": null,
      "outputs": []
    }
  ]
}